{
 "cells": [
  {
   "cell_type": "code",
   "id": "initial_id",
   "metadata": {
    "collapsed": true,
    "ExecuteTime": {
     "end_time": "2024-12-02T16:44:45.846878Z",
     "start_time": "2024-12-02T16:44:45.777232Z"
    }
   },
   "source": [
    "import pandas as pd\n",
    "import matplotlib.pyplot as plt\n",
    "import re"
   ],
   "outputs": [],
   "execution_count": 174
  },
  {
   "metadata": {
    "ExecuteTime": {
     "end_time": "2024-12-02T16:44:46.105021Z",
     "start_time": "2024-12-02T16:44:45.854569Z"
    }
   },
   "cell_type": "code",
   "source": "df = pd.read_csv('../data/incidents_train.csv', index_col=0)",
   "id": "85a895c3d19ef98c",
   "outputs": [],
   "execution_count": 175
  },
  {
   "metadata": {
    "ExecuteTime": {
     "end_time": "2024-11-28T23:42:19.168601Z",
     "start_time": "2024-11-28T23:42:19.162076Z"
    }
   },
   "cell_type": "code",
   "source": "df.head()",
   "id": "eb58e20ea88626b2",
   "outputs": [
    {
     "data": {
      "text/plain": [
       "   year  month  day country                             title  \\\n",
       "0  1994      1    7      us  Recall Notification: FSIS-024-94   \n",
       "1  1994      3   10      us  Recall Notification: FSIS-033-94   \n",
       "2  1994      3   28      us  Recall Notification: FSIS-014-94   \n",
       "3  1994      4    3      us  Recall Notification: FSIS-009-94   \n",
       "4  1994      7    1      us  Recall Notification: FSIS-001-94   \n",
       "\n",
       "                                                text hazard-category  \\\n",
       "0  Case Number: 024-94   \\n            Date Opene...      biological   \n",
       "1  Case Number: 033-94   \\n            Date Opene...      biological   \n",
       "2  Case Number: 014-94   \\n            Date Opene...      biological   \n",
       "3  Case Number: 009-94   \\n            Date Opene...  foreign bodies   \n",
       "4  Case Number: 001-94   \\n            Date Opene...  foreign bodies   \n",
       "\n",
       "               product-category                  hazard  \\\n",
       "0  meat, egg and dairy products  listeria monocytogenes   \n",
       "1  meat, egg and dairy products            listeria spp   \n",
       "2  meat, egg and dairy products  listeria monocytogenes   \n",
       "3  meat, egg and dairy products        plastic fragment   \n",
       "4  meat, egg and dairy products        plastic fragment   \n",
       "\n",
       "                       product  \n",
       "0               smoked sausage  \n",
       "1                      sausage  \n",
       "2                   ham slices  \n",
       "3  thermal processed pork meat  \n",
       "4               chicken breast  "
      ],
      "text/html": [
       "<div>\n",
       "<style scoped>\n",
       "    .dataframe tbody tr th:only-of-type {\n",
       "        vertical-align: middle;\n",
       "    }\n",
       "\n",
       "    .dataframe tbody tr th {\n",
       "        vertical-align: top;\n",
       "    }\n",
       "\n",
       "    .dataframe thead th {\n",
       "        text-align: right;\n",
       "    }\n",
       "</style>\n",
       "<table border=\"1\" class=\"dataframe\">\n",
       "  <thead>\n",
       "    <tr style=\"text-align: right;\">\n",
       "      <th></th>\n",
       "      <th>year</th>\n",
       "      <th>month</th>\n",
       "      <th>day</th>\n",
       "      <th>country</th>\n",
       "      <th>title</th>\n",
       "      <th>text</th>\n",
       "      <th>hazard-category</th>\n",
       "      <th>product-category</th>\n",
       "      <th>hazard</th>\n",
       "      <th>product</th>\n",
       "    </tr>\n",
       "  </thead>\n",
       "  <tbody>\n",
       "    <tr>\n",
       "      <th>0</th>\n",
       "      <td>1994</td>\n",
       "      <td>1</td>\n",
       "      <td>7</td>\n",
       "      <td>us</td>\n",
       "      <td>Recall Notification: FSIS-024-94</td>\n",
       "      <td>Case Number: 024-94   \\n            Date Opene...</td>\n",
       "      <td>biological</td>\n",
       "      <td>meat, egg and dairy products</td>\n",
       "      <td>listeria monocytogenes</td>\n",
       "      <td>smoked sausage</td>\n",
       "    </tr>\n",
       "    <tr>\n",
       "      <th>1</th>\n",
       "      <td>1994</td>\n",
       "      <td>3</td>\n",
       "      <td>10</td>\n",
       "      <td>us</td>\n",
       "      <td>Recall Notification: FSIS-033-94</td>\n",
       "      <td>Case Number: 033-94   \\n            Date Opene...</td>\n",
       "      <td>biological</td>\n",
       "      <td>meat, egg and dairy products</td>\n",
       "      <td>listeria spp</td>\n",
       "      <td>sausage</td>\n",
       "    </tr>\n",
       "    <tr>\n",
       "      <th>2</th>\n",
       "      <td>1994</td>\n",
       "      <td>3</td>\n",
       "      <td>28</td>\n",
       "      <td>us</td>\n",
       "      <td>Recall Notification: FSIS-014-94</td>\n",
       "      <td>Case Number: 014-94   \\n            Date Opene...</td>\n",
       "      <td>biological</td>\n",
       "      <td>meat, egg and dairy products</td>\n",
       "      <td>listeria monocytogenes</td>\n",
       "      <td>ham slices</td>\n",
       "    </tr>\n",
       "    <tr>\n",
       "      <th>3</th>\n",
       "      <td>1994</td>\n",
       "      <td>4</td>\n",
       "      <td>3</td>\n",
       "      <td>us</td>\n",
       "      <td>Recall Notification: FSIS-009-94</td>\n",
       "      <td>Case Number: 009-94   \\n            Date Opene...</td>\n",
       "      <td>foreign bodies</td>\n",
       "      <td>meat, egg and dairy products</td>\n",
       "      <td>plastic fragment</td>\n",
       "      <td>thermal processed pork meat</td>\n",
       "    </tr>\n",
       "    <tr>\n",
       "      <th>4</th>\n",
       "      <td>1994</td>\n",
       "      <td>7</td>\n",
       "      <td>1</td>\n",
       "      <td>us</td>\n",
       "      <td>Recall Notification: FSIS-001-94</td>\n",
       "      <td>Case Number: 001-94   \\n            Date Opene...</td>\n",
       "      <td>foreign bodies</td>\n",
       "      <td>meat, egg and dairy products</td>\n",
       "      <td>plastic fragment</td>\n",
       "      <td>chicken breast</td>\n",
       "    </tr>\n",
       "  </tbody>\n",
       "</table>\n",
       "</div>"
      ]
     },
     "execution_count": 13,
     "metadata": {},
     "output_type": "execute_result"
    }
   ],
   "execution_count": 13
  },
  {
   "metadata": {
    "ExecuteTime": {
     "end_time": "2024-11-28T23:42:19.317536Z",
     "start_time": "2024-11-28T23:42:19.308623Z"
    }
   },
   "cell_type": "code",
   "source": "df['hazard-category'].value_counts(normalize=True)",
   "id": "ece50a67e81eb122",
   "outputs": [
    {
     "data": {
      "text/plain": [
       "hazard-category\n",
       "allergens                         0.364817\n",
       "biological                        0.342582\n",
       "foreign bodies                    0.110390\n",
       "fraud                             0.073003\n",
       "chemical                          0.056474\n",
       "other hazard                      0.026368\n",
       "packaging defect                  0.010626\n",
       "organoleptic aspects              0.010429\n",
       "food additives and flavourings    0.004723\n",
       "migration                         0.000590\n",
       "Name: proportion, dtype: float64"
      ]
     },
     "execution_count": 14,
     "metadata": {},
     "output_type": "execute_result"
    }
   ],
   "execution_count": 14
  },
  {
   "metadata": {
    "ExecuteTime": {
     "end_time": "2024-11-28T23:42:48.673744Z",
     "start_time": "2024-11-28T23:42:48.561848Z"
    }
   },
   "cell_type": "code",
   "source": [
    "# Compute lengths of titles\n",
    "df['text_length'] = df['text'].apply(len)\n",
    "\n",
    "# Plot histogram of title lengths\n",
    "plt.figure(figsize=(10, 6))\n",
    "plt.hist(df['text_length'], bins=100, edgecolor='black', alpha=0.7)\n",
    "plt.title('Histogram of Text Lengths')\n",
    "plt.xlabel('Text Length')\n",
    "plt.ylabel('Frequency')\n",
    "plt.grid(axis='y', linestyle='--', alpha=0.7)\n",
    "plt.show()"
   ],
   "id": "4f9ad6c7505b2d54",
   "outputs": [
    {
     "data": {
      "text/plain": [
       "<Figure size 1000x600 with 1 Axes>"
      ],
      "image/png": "[encoded data removed]"
     },
     "metadata": {},
     "output_type": "display_data"
    }
   ],
   "execution_count": 18
  },
  {
   "metadata": {
    "ExecuteTime": {
     "end_time": "2024-11-28T23:43:50.667039Z",
     "start_time": "2024-11-28T23:43:50.646088Z"
    }
   },
   "cell_type": "code",
   "source": "df['text_length'].describe()",
   "id": "d143d40365ff03d3",
   "outputs": [
    {
     "data": {
      "text/plain": [
       "count     5082.000000\n",
       "mean      2335.492326\n",
       "std       2084.718355\n",
       "min         62.000000\n",
       "25%       1254.250000\n",
       "50%       1946.000000\n",
       "75%       2814.750000\n",
       "max      48318.000000\n",
       "Name: text_length, dtype: float64"
      ]
     },
     "execution_count": 21,
     "metadata": {},
     "output_type": "execute_result"
    }
   ],
   "execution_count": 21
  },
  {
   "metadata": {
    "ExecuteTime": {
     "end_time": "2024-10-24T23:15:20.189549Z",
     "start_time": "2024-10-24T23:15:20.178418Z"
    }
   },
   "cell_type": "code",
   "source": "df['product-category'].value_counts(normalize=True)",
   "id": "774aa456ed02d23f",
   "outputs": [
    {
     "data": {
      "text/plain": [
       "product-category\n",
       "meat, egg and dairy products                         0.282172\n",
       "cereals and bakery products                          0.132035\n",
       "fruits and vegetables                                0.105274\n",
       "prepared dishes and snacks                           0.092287\n",
       "seafood                                              0.052735\n",
       "soups, broths, sauces and condiments                 0.051948\n",
       "nuts, nut products and seeds                         0.051555\n",
       "ices and desserts                                    0.043684\n",
       "cocoa and cocoa preparations, coffee and tea         0.041322\n",
       "confectionery                                        0.033451\n",
       "non-alcoholic beverages                              0.026368\n",
       "dietetic foods, food supplements, fortified foods    0.025777\n",
       "herbs and spices                                     0.024597\n",
       "alcoholic beverages                                  0.011610\n",
       "other food product / mixed                           0.010823\n",
       "pet feed                                             0.003935\n",
       "fats and oils                                        0.003739\n",
       "food additives and flavourings                       0.001574\n",
       "honey and royal jelly                                0.001574\n",
       "food contact materials                               0.001377\n",
       "feed materials                                       0.001181\n",
       "sugars and syrups                                    0.000984\n",
       "Name: proportion, dtype: float64"
      ]
     },
     "execution_count": 16,
     "metadata": {},
     "output_type": "execute_result"
    }
   ],
   "execution_count": 16
  },
  {
   "metadata": {
    "ExecuteTime": {
     "end_time": "2024-11-28T23:38:15.228328Z",
     "start_time": "2024-11-28T23:38:15.222122Z"
    }
   },
   "cell_type": "code",
   "source": "df[['title', 'clean_title']].head(50)",
   "id": "9998a1eebebcd085",
   "outputs": [
    {
     "data": {
      "text/plain": [
       "                                                title  \\\n",
       "0                    Recall Notification: FSIS-024-94   \n",
       "1                    Recall Notification: FSIS-033-94   \n",
       "2                    Recall Notification: FSIS-014-94   \n",
       "3                    Recall Notification: FSIS-009-94   \n",
       "4                    Recall Notification: FSIS-001-94   \n",
       "5                    Recall Notification: FSIS-044-94   \n",
       "6                    Recall Notification: FSIS-005-94   \n",
       "7                    Recall Notification: FSIS-045-94   \n",
       "8                    Recall Notification: FSIS-018-94   \n",
       "9                    Recall Notification: FSIS-026-94   \n",
       "10                   Recall Notification: FSIS-002-95   \n",
       "11                   Recall Notification: FSIS-021-95   \n",
       "12                   Recall Notification: FSIS-025-95   \n",
       "13                   Recall Notification: FSIS-038-95   \n",
       "14                   Recall Notification: FSIS-041-95   \n",
       "15                   Recall Notification: FSIS-006-95   \n",
       "16                   Recall Notification: FSIS-003-95   \n",
       "17                   Recall Notification: FSIS-009-96   \n",
       "18                   Recall Notification: FSIS-017-96   \n",
       "19                   Recall Notification: FSIS-024-96   \n",
       "20                   Recall Notification: FSIS-023-96   \n",
       "21                   Recall Notification: FSIS-006-97   \n",
       "22                   Recall Notification: FSIS-016-97   \n",
       "23                   Recall Notification: FSIS-022-97   \n",
       "24                   Recall Notification: FSIS-021-97   \n",
       "25                   Recall Notification: FSIS-010-97   \n",
       "26                   Recall Notification: FSIS-023-97   \n",
       "27                   Recall Notification: FSIS-014-97   \n",
       "28                   Recall Notification: FSIS-018-97   \n",
       "29                   Recall Notification: FSIS-015-97   \n",
       "30                   Recall Notification: FSIS-017-97   \n",
       "31                   Balfour Wauchope—Cake with Icing   \n",
       "32     Hans Continental Smallgoods—Latvian Liverwurst   \n",
       "33                   Recall Notification: FSIS-011-98   \n",
       "34  Archive - ALLERGY ALERT - UNDECLARED SOY PROTE...   \n",
       "35                   Recall Notification: FSIS-017-98   \n",
       "36                     Allfect Ltd—Ghost Drop Lollies   \n",
       "37                   Recall Notification: FSIS-037-98   \n",
       "38                   Recall Notification: FSIS-020-98   \n",
       "39                                        Alba Gelati   \n",
       "40           Franklins Limited—Frozen Chicken Nuggets   \n",
       "41  Franklins Ltd—Big Fresh & Franklins Fresh Labe...   \n",
       "42                 Tarac Australia—Beenleigh Dark Rum   \n",
       "43                   Recall Notification: FSIS-035-98   \n",
       "44  Archive - PRODUCT ALERT - POSSIBLE BOTULISM TO...   \n",
       "45                   Recall Notification: FSIS-023-98   \n",
       "46    Woolworths Limited—Home Brand—Assorted Biscuits   \n",
       "47          Liquorland—Scotch Whisky—Hankey Bannister   \n",
       "48    Coles Myer Supermarkets—Value Bag Choc Sultanas   \n",
       "49                      Blue Lotus Foods—Tofu Cutlets   \n",
       "\n",
       "                                          clean_title  \n",
       "0                                                None  \n",
       "1                                                None  \n",
       "2                                                None  \n",
       "3                                                None  \n",
       "4                                                None  \n",
       "5                                                None  \n",
       "6                                                None  \n",
       "7                                                None  \n",
       "8                                                None  \n",
       "9                                                None  \n",
       "10                                               None  \n",
       "11                                               None  \n",
       "12                                               None  \n",
       "13                                               None  \n",
       "14                                               None  \n",
       "15                                               None  \n",
       "16                                               None  \n",
       "17                                               None  \n",
       "18                                               None  \n",
       "19                                               None  \n",
       "20                                               None  \n",
       "21                                               None  \n",
       "22                                               None  \n",
       "23                                               None  \n",
       "24                                               None  \n",
       "25                                               None  \n",
       "26                                               None  \n",
       "27                                               None  \n",
       "28                                               None  \n",
       "29                                               None  \n",
       "30                                               None  \n",
       "31                   Balfour Wauchope—Cake with Icing  \n",
       "32     Hans Continental Smallgoods—Latvian Liverwurst  \n",
       "33                                               None  \n",
       "34  Archive - ALLERGY - UNDECLARED SOY PROTEIN AND...  \n",
       "35                                               None  \n",
       "36                     Allfect Ltd—Ghost Drop Lollies  \n",
       "37                                               None  \n",
       "38                                               None  \n",
       "39                                               None  \n",
       "40           Franklins Limited—Frozen Chicken Nuggets  \n",
       "41  Franklins Ltd—Big Fresh & Franklins Fresh Labe...  \n",
       "42                 Tarac Australia—Beenleigh Dark Rum  \n",
       "43                                               None  \n",
       "44  Archive - PRODUCT - POSSIBLE BOTULISM TOXIN IN...  \n",
       "45                                               None  \n",
       "46    Woolworths Limited—Home Brand—Assorted Biscuits  \n",
       "47          Liquorland—Scotch Whisky—Hankey Bannister  \n",
       "48    Coles Myer Supermarkets—Value Bag Choc Sultanas  \n",
       "49                      Blue Lotus Foods—Tofu Cutlets  "
      ],
      "text/html": [
       "<div>\n",
       "<style scoped>\n",
       "    .dataframe tbody tr th:only-of-type {\n",
       "        vertical-align: middle;\n",
       "    }\n",
       "\n",
       "    .dataframe tbody tr th {\n",
       "        vertical-align: top;\n",
       "    }\n",
       "\n",
       "    .dataframe thead th {\n",
       "        text-align: right;\n",
       "    }\n",
       "</style>\n",
       "<table border=\"1\" class=\"dataframe\">\n",
       "  <thead>\n",
       "    <tr style=\"text-align: right;\">\n",
       "      <th></th>\n",
       "      <th>title</th>\n",
       "      <th>clean_title</th>\n",
       "    </tr>\n",
       "  </thead>\n",
       "  <tbody>\n",
       "    <tr>\n",
       "      <th>0</th>\n",
       "      <td>Recall Notification: FSIS-024-94</td>\n",
       "      <td>None</td>\n",
       "    </tr>\n",
       "    <tr>\n",
       "      <th>1</th>\n",
       "      <td>Recall Notification: FSIS-033-94</td>\n",
       "      <td>None</td>\n",
       "    </tr>\n",
       "    <tr>\n",
       "      <th>2</th>\n",
       "      <td>Recall Notification: FSIS-014-94</td>\n",
       "      <td>None</td>\n",
       "    </tr>\n",
       "    <tr>\n",
       "      <th>3</th>\n",
       "      <td>Recall Notification: FSIS-009-94</td>\n",
       "      <td>None</td>\n",
       "    </tr>\n",
       "    <tr>\n",
       "      <th>4</th>\n",
       "      <td>Recall Notification: FSIS-001-94</td>\n",
       "      <td>None</td>\n",
       "    </tr>\n",
       "    <tr>\n",
       "      <th>5</th>\n",
       "      <td>Recall Notification: FSIS-044-94</td>\n",
       "      <td>None</td>\n",
       "    </tr>\n",
       "    <tr>\n",
       "      <th>6</th>\n",
       "      <td>Recall Notification: FSIS-005-94</td>\n",
       "      <td>None</td>\n",
       "    </tr>\n",
       "    <tr>\n",
       "      <th>7</th>\n",
       "      <td>Recall Notification: FSIS-045-94</td>\n",
       "      <td>None</td>\n",
       "    </tr>\n",
       "    <tr>\n",
       "      <th>8</th>\n",
       "      <td>Recall Notification: FSIS-018-94</td>\n",
       "      <td>None</td>\n",
       "    </tr>\n",
       "    <tr>\n",
       "      <th>9</th>\n",
       "      <td>Recall Notification: FSIS-026-94</td>\n",
       "      <td>None</td>\n",
       "    </tr>\n",
       "    <tr>\n",
       "      <th>10</th>\n",
       "      <td>Recall Notification: FSIS-002-95</td>\n",
       "      <td>None</td>\n",
       "    </tr>\n",
       "    <tr>\n",
       "      <th>11</th>\n",
       "      <td>Recall Notification: FSIS-021-95</td>\n",
       "      <td>None</td>\n",
       "    </tr>\n",
       "    <tr>\n",
       "      <th>12</th>\n",
       "      <td>Recall Notification: FSIS-025-95</td>\n",
       "      <td>None</td>\n",
       "    </tr>\n",
       "    <tr>\n",
       "      <th>13</th>\n",
       "      <td>Recall Notification: FSIS-038-95</td>\n",
       "      <td>None</td>\n",
       "    </tr>\n",
       "    <tr>\n",
       "      <th>14</th>\n",
       "      <td>Recall Notification: FSIS-041-95</td>\n",
       "      <td>None</td>\n",
       "    </tr>\n",
       "    <tr>\n",
       "      <th>15</th>\n",
       "      <td>Recall Notification: FSIS-006-95</td>\n",
       "      <td>None</td>\n",
       "    </tr>\n",
       "    <tr>\n",
       "      <th>16</th>\n",
       "      <td>Recall Notification: FSIS-003-95</td>\n",
       "      <td>None</td>\n",
       "    </tr>\n",
       "    <tr>\n",
       "      <th>17</th>\n",
       "      <td>Recall Notification: FSIS-009-96</td>\n",
       "      <td>None</td>\n",
       "    </tr>\n",
       "    <tr>\n",
       "      <th>18</th>\n",
       "      <td>Recall Notification: FSIS-017-96</td>\n",
       "      <td>None</td>\n",
       "    </tr>\n",
       "    <tr>\n",
       "      <th>19</th>\n",
       "      <td>Recall Notification: FSIS-024-96</td>\n",
       "      <td>None</td>\n",
       "    </tr>\n",
       "    <tr>\n",
       "      <th>20</th>\n",
       "      <td>Recall Notification: FSIS-023-96</td>\n",
       "      <td>None</td>\n",
       "    </tr>\n",
       "    <tr>\n",
       "      <th>21</th>\n",
       "      <td>Recall Notification: FSIS-006-97</td>\n",
       "      <td>None</td>\n",
       "    </tr>\n",
       "    <tr>\n",
       "      <th>22</th>\n",
       "      <td>Recall Notification: FSIS-016-97</td>\n",
       "      <td>None</td>\n",
       "    </tr>\n",
       "    <tr>\n",
       "      <th>23</th>\n",
       "      <td>Recall Notification: FSIS-022-97</td>\n",
       "      <td>None</td>\n",
       "    </tr>\n",
       "    <tr>\n",
       "      <th>24</th>\n",
       "      <td>Recall Notification: FSIS-021-97</td>\n",
       "      <td>None</td>\n",
       "    </tr>\n",
       "    <tr>\n",
       "      <th>25</th>\n",
       "      <td>Recall Notification: FSIS-010-97</td>\n",
       "      <td>None</td>\n",
       "    </tr>\n",
       "    <tr>\n",
       "      <th>26</th>\n",
       "      <td>Recall Notification: FSIS-023-97</td>\n",
       "      <td>None</td>\n",
       "    </tr>\n",
       "    <tr>\n",
       "      <th>27</th>\n",
       "      <td>Recall Notification: FSIS-014-97</td>\n",
       "      <td>None</td>\n",
       "    </tr>\n",
       "    <tr>\n",
       "      <th>28</th>\n",
       "      <td>Recall Notification: FSIS-018-97</td>\n",
       "      <td>None</td>\n",
       "    </tr>\n",
       "    <tr>\n",
       "      <th>29</th>\n",
       "      <td>Recall Notification: FSIS-015-97</td>\n",
       "      <td>None</td>\n",
       "    </tr>\n",
       "    <tr>\n",
       "      <th>30</th>\n",
       "      <td>Recall Notification: FSIS-017-97</td>\n",
       "      <td>None</td>\n",
       "    </tr>\n",
       "    <tr>\n",
       "      <th>31</th>\n",
       "      <td>Balfour Wauchope—Cake with Icing</td>\n",
       "      <td>Balfour Wauchope—Cake with Icing</td>\n",
       "    </tr>\n",
       "    <tr>\n",
       "      <th>32</th>\n",
       "      <td>Hans Continental Smallgoods—Latvian Liverwurst</td>\n",
       "      <td>Hans Continental Smallgoods—Latvian Liverwurst</td>\n",
       "    </tr>\n",
       "    <tr>\n",
       "      <th>33</th>\n",
       "      <td>Recall Notification: FSIS-011-98</td>\n",
       "      <td>None</td>\n",
       "    </tr>\n",
       "    <tr>\n",
       "      <th>34</th>\n",
       "      <td>Archive - ALLERGY ALERT - UNDECLARED SOY PROTE...</td>\n",
       "      <td>Archive - ALLERGY - UNDECLARED SOY PROTEIN AND...</td>\n",
       "    </tr>\n",
       "    <tr>\n",
       "      <th>35</th>\n",
       "      <td>Recall Notification: FSIS-017-98</td>\n",
       "      <td>None</td>\n",
       "    </tr>\n",
       "    <tr>\n",
       "      <th>36</th>\n",
       "      <td>Allfect Ltd—Ghost Drop Lollies</td>\n",
       "      <td>Allfect Ltd—Ghost Drop Lollies</td>\n",
       "    </tr>\n",
       "    <tr>\n",
       "      <th>37</th>\n",
       "      <td>Recall Notification: FSIS-037-98</td>\n",
       "      <td>None</td>\n",
       "    </tr>\n",
       "    <tr>\n",
       "      <th>38</th>\n",
       "      <td>Recall Notification: FSIS-020-98</td>\n",
       "      <td>None</td>\n",
       "    </tr>\n",
       "    <tr>\n",
       "      <th>39</th>\n",
       "      <td>Alba Gelati</td>\n",
       "      <td>None</td>\n",
       "    </tr>\n",
       "    <tr>\n",
       "      <th>40</th>\n",
       "      <td>Franklins Limited—Frozen Chicken Nuggets</td>\n",
       "      <td>Franklins Limited—Frozen Chicken Nuggets</td>\n",
       "    </tr>\n",
       "    <tr>\n",
       "      <th>41</th>\n",
       "      <td>Franklins Ltd—Big Fresh &amp; Franklins Fresh Labe...</td>\n",
       "      <td>Franklins Ltd—Big Fresh &amp; Franklins Fresh Labe...</td>\n",
       "    </tr>\n",
       "    <tr>\n",
       "      <th>42</th>\n",
       "      <td>Tarac Australia—Beenleigh Dark Rum</td>\n",
       "      <td>Tarac Australia—Beenleigh Dark Rum</td>\n",
       "    </tr>\n",
       "    <tr>\n",
       "      <th>43</th>\n",
       "      <td>Recall Notification: FSIS-035-98</td>\n",
       "      <td>None</td>\n",
       "    </tr>\n",
       "    <tr>\n",
       "      <th>44</th>\n",
       "      <td>Archive - PRODUCT ALERT - POSSIBLE BOTULISM TO...</td>\n",
       "      <td>Archive - PRODUCT - POSSIBLE BOTULISM TOXIN IN...</td>\n",
       "    </tr>\n",
       "    <tr>\n",
       "      <th>45</th>\n",
       "      <td>Recall Notification: FSIS-023-98</td>\n",
       "      <td>None</td>\n",
       "    </tr>\n",
       "    <tr>\n",
       "      <th>46</th>\n",
       "      <td>Woolworths Limited—Home Brand—Assorted Biscuits</td>\n",
       "      <td>Woolworths Limited—Home Brand—Assorted Biscuits</td>\n",
       "    </tr>\n",
       "    <tr>\n",
       "      <th>47</th>\n",
       "      <td>Liquorland—Scotch Whisky—Hankey Bannister</td>\n",
       "      <td>Liquorland—Scotch Whisky—Hankey Bannister</td>\n",
       "    </tr>\n",
       "    <tr>\n",
       "      <th>48</th>\n",
       "      <td>Coles Myer Supermarkets—Value Bag Choc Sultanas</td>\n",
       "      <td>Coles Myer Supermarkets—Value Bag Choc Sultanas</td>\n",
       "    </tr>\n",
       "    <tr>\n",
       "      <th>49</th>\n",
       "      <td>Blue Lotus Foods—Tofu Cutlets</td>\n",
       "      <td>Blue Lotus Foods—Tofu Cutlets</td>\n",
       "    </tr>\n",
       "  </tbody>\n",
       "</table>\n",
       "</div>"
      ]
     },
     "execution_count": 10,
     "metadata": {},
     "output_type": "execute_result"
    }
   ],
   "execution_count": 10
  },
  {
   "metadata": {
    "ExecuteTime": {
     "end_time": "2024-12-02T17:08:16.287340Z",
     "start_time": "2024-12-02T17:08:15.916432Z"
    }
   },
   "cell_type": "code",
   "source": [
    "def clean_title(title):\n",
    "    # Step 1: Remove underscores\n",
    "    title = re.sub(r'_', ' ', title)\n",
    "\n",
    "    # Step 2: Remove dates in various formats\n",
    "    title = re.sub(r'\\b\\d{1,2}[-_/]\\d{1,2}[-_/]\\d{2,4}\\b', '', title)  # Remove MM/DD/YYYY or similar\n",
    "    title = re.sub(r'\\b\\d{4}[-_/]\\d{1,2}[-_/]\\d{1,2}\\b', '', title)  # Remove YYYY-MM-DD\n",
    "    title = re.sub(r'\\b\\d{1,2}\\s+\\w+\\s+\\d{4}\\b', '', title, flags=re.IGNORECASE)  # Remove \"12 July 2023\"\n",
    "    title = re.sub(r'\\b\\d{4}\\b', '', title)  # Remove standalone years\n",
    "    title = re.sub(r'^\\d{4}\\s*', '', title)  # Remove leading years\n",
    "\n",
    "    # Step 3: Remove R trademark symbol and other symbols\n",
    "    title = re.sub(r'\\u00AE|®', '', title)  # Remove R trademark symbol\n",
    "\n",
    "    # Step 4: Remove HTML entities and other character encodings\n",
    "    title = re.sub(r'&[a-zA-Z]+;', '', title)  # Remove entities like &rsquo; and &amp\n",
    "\n",
    "    # Step 5: Remove unnecessary patterns\n",
    "    title = re.sub(r'^Recall Notification:?\\s*', '', title, flags=re.IGNORECASE)  # Remove specific prefixes\n",
    "    title = re.sub(r'FSIS-\\d+-\\d+', '', title)  # Remove case numbers\n",
    "    title = re.sub(r'\\bReport\\s*\\d+-?\\s*', '', title, flags=re.IGNORECASE)  # Remove \"Report 064-2013\"\n",
    "\n",
    "    # Step 6: Remove parentheses\n",
    "    title = re.sub(r'[()]', '', title)  # Remove parentheses\n",
    "\n",
    "    # Step 7: Remove trailing hyphens\n",
    "    title = re.sub(r'-\\s*$', '', title)  # Remove strictly trailing hyphens\n",
    "\n",
    "    # Step 8: Remove extra dashes and colons\n",
    "    title = re.sub(r'\\s+-\\s+', ' ', title)  # Remove dashes surrounded by spaces\n",
    "    title = re.sub(r'^:\\s*', '', title)  # Remove leading colons\n",
    "    title = re.sub(r'\\s*:\\s*$', '', title)  # Remove trailing colons\n",
    "\n",
    "    # Step 9: Normalize whitespace\n",
    "    title = re.sub(r'\\s+', ' ', title).strip()\n",
    "\n",
    "    # If cleaning results in an empty title, return an empty string\n",
    "    return title\n",
    "\n",
    "def filter_dataset(dataset):\n",
    "    # Apply cleaning function\n",
    "    dataset['clean_title'] = dataset['title'].apply(clean_title)\n",
    "    # Remove rows with empty cleaned titles\n",
    "    dataset = dataset[dataset['clean_title'] != '']\n",
    "    # Remove rows with fewer than 3 words in the cleaned title\n",
    "    dataset = dataset[dataset['clean_title'].str.split().str.len() >= 3].reset_index(drop=True)\n",
    "    return dataset\n",
    "\n",
    "# Apply cleaning functions\n",
    "df['clean_title'] = df['title'].apply(clean_title)\n",
    "df = filter_dataset(df)\n",
    "df.to_csv('../data/incidents_train_cleaned.csv', index=True)"
   ],
   "id": "f007f5b1ba3cb96a",
   "outputs": [],
   "execution_count": 178
  },
  {
   "metadata": {
    "ExecuteTime": {
     "end_time": "2024-12-02T17:12:44.163930Z",
     "start_time": "2024-12-02T17:12:44.159168Z"
    }
   },
   "cell_type": "code",
   "source": [
    "print(df['clean_title'].isnull().sum())\n",
    "print(df['clean_title'].head())\n"
   ],
   "id": "372383c33ef2346b",
   "outputs": [
    {
     "name": "stdout",
     "output_type": "stream",
     "text": [
      "0\n",
      "0                     Balfour Wauchope—Cake with Icing\n",
      "1       Hans Continental Smallgoods—Latvian Liverwurst\n",
      "2    Archive ALLERGY ALERT UNDECLARED SOY PROTEIN A...\n",
      "3                       Allfect Ltd—Ghost Drop Lollies\n",
      "4             Franklins Limited—Frozen Chicken Nuggets\n",
      "Name: clean_title, dtype: object\n"
     ]
    }
   ],
   "execution_count": 181
  },
  {
   "metadata": {
    "ExecuteTime": {
     "end_time": "2024-12-01T22:50:42.841382Z",
     "start_time": "2024-12-01T22:50:42.219592Z"
    }
   },
   "cell_type": "code",
   "source": [
    "hcdf = pd.read_csv('../data/synthetic/hazard_category_data_25.csv')\n",
    "pcdf = pd.read_csv('../data/synthetic/product_category_data_25.csv')\n",
    "\n",
    "hcdf['clean_title'] = hcdf['title'].apply(clean_title)\n",
    "pcdf['clean_title'] = pcdf['title'].apply(clean_title)\n",
    "hcdf = filter_dataset(hcdf)\n",
    "pcdf = filter_dataset(pcdf)\n",
    "\n",
    "hcdf.to_csv('../data/synthetic_cleaned/hazard_category_data_25.csv', index=False)\n",
    "pcdf.to_csv('../data/synthetic_cleaned/product_category_data_25.csv', index=False)"
   ],
   "id": "95891e687d7a7a8a",
   "outputs": [],
   "execution_count": 165
  },
  {
   "metadata": {
    "ExecuteTime": {
     "end_time": "2024-12-01T22:51:04.120595Z",
     "start_time": "2024-12-01T22:51:04.091471Z"
    }
   },
   "cell_type": "code",
   "source": [
    "hdf = pd.read_csv('../data/synthetic/hazard_data_25.csv')\n",
    "len(hdf)\n",
    "len(hdf['hazard'].unique())"
   ],
   "id": "63b4e66e8e6bfd45",
   "outputs": [
    {
     "data": {
      "text/plain": [
       "128"
      ]
     },
     "execution_count": 173,
     "metadata": {},
     "output_type": "execute_result"
    }
   ],
   "execution_count": 173
  },
  {
   "metadata": {
    "ExecuteTime": {
     "end_time": "2024-12-01T22:50:44.997280Z",
     "start_time": "2024-12-01T22:50:44.778191Z"
    }
   },
   "cell_type": "code",
   "source": [
    "hdf['clean_title'] = hdf['title'].apply(clean_title)\n",
    "hdf = filter_dataset(hdf)\n",
    "print(len(hdf))\n",
    "len(hdf['hazard'].unique())"
   ],
   "id": "1aa27ec2438c4386",
   "outputs": [
    {
     "name": "stdout",
     "output_type": "stream",
     "text": [
      "6633\n"
     ]
    },
    {
     "data": {
      "text/plain": [
       "128"
      ]
     },
     "execution_count": 167,
     "metadata": {},
     "output_type": "execute_result"
    }
   ],
   "execution_count": 167
  },
  {
   "metadata": {
    "ExecuteTime": {
     "end_time": "2024-12-01T22:50:45.165342Z",
     "start_time": "2024-12-01T22:50:45.143857Z"
    }
   },
   "cell_type": "code",
   "source": "hdf.to_csv('../data/synthetic_cleaned/hazard_data_25.csv', index=False)",
   "id": "a787c8c3dca5189e",
   "outputs": [],
   "execution_count": 168
  },
  {
   "metadata": {
    "ExecuteTime": {
     "end_time": "2024-12-01T22:50:49.879533Z",
     "start_time": "2024-12-01T22:50:49.825437Z"
    }
   },
   "cell_type": "code",
   "source": "pdf = pd.read_csv('../data/synthetic/product_data_25.csv')",
   "id": "9920aa8215388b1a",
   "outputs": [],
   "execution_count": 169
  },
  {
   "metadata": {
    "ExecuteTime": {
     "end_time": "2024-12-01T22:50:50.039048Z",
     "start_time": "2024-12-01T22:50:50.034405Z"
    }
   },
   "cell_type": "code",
   "source": "len(pdf), len(pdf['product'].unique())",
   "id": "dcb3f22d909ca1fd",
   "outputs": [
    {
     "data": {
      "text/plain": [
       "(26338, 1022)"
      ]
     },
     "execution_count": 170,
     "metadata": {},
     "output_type": "execute_result"
    }
   ],
   "execution_count": 170
  },
  {
   "metadata": {
    "ExecuteTime": {
     "end_time": "2024-12-01T22:50:51.298522Z",
     "start_time": "2024-12-01T22:50:50.498238Z"
    }
   },
   "cell_type": "code",
   "source": [
    "pdf['clean_title'] = pdf['title'].apply(clean_title)\n",
    "pdf = filter_dataset(pdf)\n",
    "print(len(pdf))\n",
    "print(len(pdf['product'].unique()))"
   ],
   "id": "a5d9dba873d2ec71",
   "outputs": [
    {
     "name": "stdout",
     "output_type": "stream",
     "text": [
      "26217\n",
      "1022\n"
     ]
    }
   ],
   "execution_count": 171
  },
  {
   "metadata": {
    "ExecuteTime": {
     "end_time": "2024-12-01T22:50:51.869632Z",
     "start_time": "2024-12-01T22:50:51.794206Z"
    }
   },
   "cell_type": "code",
   "source": "pdf.to_csv('../data/synthetic_cleaned/product_data_25.csv', index=False)",
   "id": "25125b1b7d157589",
   "outputs": [],
   "execution_count": 172
  },
  {
   "metadata": {
    "ExecuteTime": {
     "end_time": "2024-12-01T21:59:16.430404Z",
     "start_time": "2024-12-01T21:59:16.422907Z"
    }
   },
   "cell_type": "code",
   "source": [
    "pds = pdf[pdf['title'] == 'Archives']['product'].unique()\n",
    "for p in pds:\n",
    "    print(p, '-', len(pdf[pdf['product'] == p]))"
   ],
   "id": "4de8e0adc1f18cbd",
   "outputs": [],
   "execution_count": 122
  },
  {
   "metadata": {
    "ExecuteTime": {
     "end_time": "2024-12-01T21:59:16.800190Z",
     "start_time": "2024-12-01T21:59:16.778635Z"
    }
   },
   "cell_type": "code",
   "source": [
    "pds = pdf[pdf['title'].str.contains('Recall Notification')]['product'].unique()\n",
    "for p in pds:\n",
    "    print(p, '-', len(pdf[pdf['product'] == p]))"
   ],
   "id": "a8012843d326f30a",
   "outputs": [
    {
     "name": "stdout",
     "output_type": "stream",
     "text": [
      "thermal processed pork meat - 36\n",
      "beef tenderloin cuts - 24\n",
      "loose smoked whole chickens - 24\n",
      "onions - 26\n",
      "hot dogs - 20\n",
      "frozen pork preparations - 13\n",
      "chilled salads - 19\n",
      "dry sausage - 20\n",
      "ham slices - 16\n",
      "fresh beef meat - 8\n",
      "beef stewed - 16\n",
      "vacuum packed marinated pork - 14\n"
     ]
    }
   ],
   "execution_count": 123
  },
  {
   "metadata": {
    "ExecuteTime": {
     "end_time": "2024-12-01T19:12:35.142169Z",
     "start_time": "2024-12-01T19:12:34.678161Z"
    }
   },
   "cell_type": "code",
   "source": "pdf['ct'] = pdf['title'].apply(clean_title)",
   "id": "bd529ee7a8634d91",
   "outputs": [],
   "execution_count": 96
  },
  {
   "metadata": {
    "ExecuteTime": {
     "end_time": "2024-12-01T21:59:25.659928Z",
     "start_time": "2024-12-01T21:59:25.643013Z"
    }
   },
   "cell_type": "code",
   "source": "pdf[pdf['title'].str.contains('Recall Notification')]",
   "id": "5cf0873c0c064523",
   "outputs": [
    {
     "data": {
      "text/plain": [
       "       Unnamed: 0                                              title  year  \\\n",
       "959          1140  Recall Notification Report 086-2014 (Hickory S...  2014   \n",
       "967          1148  Recall Notification Report 088-2014 (DaBecca S...  2014   \n",
       "1154         1354  Recall Notification Report 115-2015 (Boneless ...  2015   \n",
       "2533         2826  Recall Notification Report 067-2018 (Pork and ...  2018   \n",
       "2662         2959  Recall Notification Report 104-2018 (Smoked Wh...  2018   \n",
       "...           ...                                                ...   ...   \n",
       "24509       25829  Recall Notification Report 142-2023 (Boneless ...  2015   \n",
       "24510       25830  Recall Notification Report 123-2019 (Boneless ...  2015   \n",
       "24511       25831  Recall Notification Report 118-2015 (Boneless ...  2015   \n",
       "24512       25832  Recall Notification Report 113-2017 (Boneless ...  2015   \n",
       "24513       25833  Recall Notification Report 117-2015 (Boneless ...  2015   \n",
       "\n",
       "       day  month country                      product  \\\n",
       "959     22     12      us  thermal processed pork meat   \n",
       "967     23     12      us  thermal processed pork meat   \n",
       "1154    27      8      us         beef tenderloin cuts   \n",
       "2533     7      8      us  thermal processed pork meat   \n",
       "2662    26     10      us  loose smoked whole chickens   \n",
       "...    ...    ...     ...                          ...   \n",
       "24509   27      8      us         beef tenderloin cuts   \n",
       "24510   27      8      us         beef tenderloin cuts   \n",
       "24511   27      8      us         beef tenderloin cuts   \n",
       "24512   27      8      us         beef tenderloin cuts   \n",
       "24513   27      8      us         beef tenderloin cuts   \n",
       "\n",
       "                                        clean_title  \n",
       "959                     Hickory Smoked Sliced Bacon  \n",
       "967       DaBecca Sliced Uncured Apple Smoked Bacon  \n",
       "1154                      Boneless Beef Tender Tips  \n",
       "2533                 Pork and Beef Bologna Products  \n",
       "2662                  Smoked Whole Chicken Products  \n",
       "...                                             ...  \n",
       "24509                 Boneless Beef Tenderloin Cuts  \n",
       "24510  Boneless Beef Tenderloin Cuts Containing Soy  \n",
       "24511                 Boneless Beef Tenderloin Cuts  \n",
       "24512                 Boneless Beef Tenderloin Cuts  \n",
       "24513                 Boneless Beef Tenderloin Cuts  \n",
       "\n",
       "[96 rows x 8 columns]"
      ],
      "text/html": [
       "<div>\n",
       "<style scoped>\n",
       "    .dataframe tbody tr th:only-of-type {\n",
       "        vertical-align: middle;\n",
       "    }\n",
       "\n",
       "    .dataframe tbody tr th {\n",
       "        vertical-align: top;\n",
       "    }\n",
       "\n",
       "    .dataframe thead th {\n",
       "        text-align: right;\n",
       "    }\n",
       "</style>\n",
       "<table border=\"1\" class=\"dataframe\">\n",
       "  <thead>\n",
       "    <tr style=\"text-align: right;\">\n",
       "      <th></th>\n",
       "      <th>Unnamed: 0</th>\n",
       "      <th>title</th>\n",
       "      <th>year</th>\n",
       "      <th>day</th>\n",
       "      <th>month</th>\n",
       "      <th>country</th>\n",
       "      <th>product</th>\n",
       "      <th>clean_title</th>\n",
       "    </tr>\n",
       "  </thead>\n",
       "  <tbody>\n",
       "    <tr>\n",
       "      <th>959</th>\n",
       "      <td>1140</td>\n",
       "      <td>Recall Notification Report 086-2014 (Hickory S...</td>\n",
       "      <td>2014</td>\n",
       "      <td>22</td>\n",
       "      <td>12</td>\n",
       "      <td>us</td>\n",
       "      <td>thermal processed pork meat</td>\n",
       "      <td>Hickory Smoked Sliced Bacon</td>\n",
       "    </tr>\n",
       "    <tr>\n",
       "      <th>967</th>\n",
       "      <td>1148</td>\n",
       "      <td>Recall Notification Report 088-2014 (DaBecca S...</td>\n",
       "      <td>2014</td>\n",
       "      <td>23</td>\n",
       "      <td>12</td>\n",
       "      <td>us</td>\n",
       "      <td>thermal processed pork meat</td>\n",
       "      <td>DaBecca Sliced Uncured Apple Smoked Bacon</td>\n",
       "    </tr>\n",
       "    <tr>\n",
       "      <th>1154</th>\n",
       "      <td>1354</td>\n",
       "      <td>Recall Notification Report 115-2015 (Boneless ...</td>\n",
       "      <td>2015</td>\n",
       "      <td>27</td>\n",
       "      <td>8</td>\n",
       "      <td>us</td>\n",
       "      <td>beef tenderloin cuts</td>\n",
       "      <td>Boneless Beef Tender Tips</td>\n",
       "    </tr>\n",
       "    <tr>\n",
       "      <th>2533</th>\n",
       "      <td>2826</td>\n",
       "      <td>Recall Notification Report 067-2018 (Pork and ...</td>\n",
       "      <td>2018</td>\n",
       "      <td>7</td>\n",
       "      <td>8</td>\n",
       "      <td>us</td>\n",
       "      <td>thermal processed pork meat</td>\n",
       "      <td>Pork and Beef Bologna Products</td>\n",
       "    </tr>\n",
       "    <tr>\n",
       "      <th>2662</th>\n",
       "      <td>2959</td>\n",
       "      <td>Recall Notification Report 104-2018 (Smoked Wh...</td>\n",
       "      <td>2018</td>\n",
       "      <td>26</td>\n",
       "      <td>10</td>\n",
       "      <td>us</td>\n",
       "      <td>loose smoked whole chickens</td>\n",
       "      <td>Smoked Whole Chicken Products</td>\n",
       "    </tr>\n",
       "    <tr>\n",
       "      <th>...</th>\n",
       "      <td>...</td>\n",
       "      <td>...</td>\n",
       "      <td>...</td>\n",
       "      <td>...</td>\n",
       "      <td>...</td>\n",
       "      <td>...</td>\n",
       "      <td>...</td>\n",
       "      <td>...</td>\n",
       "    </tr>\n",
       "    <tr>\n",
       "      <th>24509</th>\n",
       "      <td>25829</td>\n",
       "      <td>Recall Notification Report 142-2023 (Boneless ...</td>\n",
       "      <td>2015</td>\n",
       "      <td>27</td>\n",
       "      <td>8</td>\n",
       "      <td>us</td>\n",
       "      <td>beef tenderloin cuts</td>\n",
       "      <td>Boneless Beef Tenderloin Cuts</td>\n",
       "    </tr>\n",
       "    <tr>\n",
       "      <th>24510</th>\n",
       "      <td>25830</td>\n",
       "      <td>Recall Notification Report 123-2019 (Boneless ...</td>\n",
       "      <td>2015</td>\n",
       "      <td>27</td>\n",
       "      <td>8</td>\n",
       "      <td>us</td>\n",
       "      <td>beef tenderloin cuts</td>\n",
       "      <td>Boneless Beef Tenderloin Cuts Containing Soy</td>\n",
       "    </tr>\n",
       "    <tr>\n",
       "      <th>24511</th>\n",
       "      <td>25831</td>\n",
       "      <td>Recall Notification Report 118-2015 (Boneless ...</td>\n",
       "      <td>2015</td>\n",
       "      <td>27</td>\n",
       "      <td>8</td>\n",
       "      <td>us</td>\n",
       "      <td>beef tenderloin cuts</td>\n",
       "      <td>Boneless Beef Tenderloin Cuts</td>\n",
       "    </tr>\n",
       "    <tr>\n",
       "      <th>24512</th>\n",
       "      <td>25832</td>\n",
       "      <td>Recall Notification Report 113-2017 (Boneless ...</td>\n",
       "      <td>2015</td>\n",
       "      <td>27</td>\n",
       "      <td>8</td>\n",
       "      <td>us</td>\n",
       "      <td>beef tenderloin cuts</td>\n",
       "      <td>Boneless Beef Tenderloin Cuts</td>\n",
       "    </tr>\n",
       "    <tr>\n",
       "      <th>24513</th>\n",
       "      <td>25833</td>\n",
       "      <td>Recall Notification Report 117-2015 (Boneless ...</td>\n",
       "      <td>2015</td>\n",
       "      <td>27</td>\n",
       "      <td>8</td>\n",
       "      <td>us</td>\n",
       "      <td>beef tenderloin cuts</td>\n",
       "      <td>Boneless Beef Tenderloin Cuts</td>\n",
       "    </tr>\n",
       "  </tbody>\n",
       "</table>\n",
       "<p>96 rows × 8 columns</p>\n",
       "</div>"
      ]
     },
     "execution_count": 124,
     "metadata": {},
     "output_type": "execute_result"
    }
   ],
   "execution_count": 124
  },
  {
   "metadata": {},
   "cell_type": "code",
   "outputs": [],
   "execution_count": null,
   "source": [
    "# Identify rows where the title is irrelevant by checking for empty or placeholder values\n",
    "irrelevant_titles = pdf['title'].str.lower().str.contains(\"recall notification|fsis-\", na=False)\n",
    "\n",
    "# Verify that removing these rows does not affect label counts\n",
    "filtered_data = data[~irrelevant_titles]"
   ],
   "id": "c3c2d1507f5a4feb"
  },
  {
   "metadata": {
    "ExecuteTime": {
     "end_time": "2024-12-01T21:59:49.380047Z",
     "start_time": "2024-12-01T21:59:49.374020Z"
    }
   },
   "cell_type": "code",
   "source": "pdf[pdf['clean_title']=='']",
   "id": "37e9762bfd1854d5",
   "outputs": [
    {
     "data": {
      "text/plain": [
       "Empty DataFrame\n",
       "Columns: [Unnamed: 0, title, year, day, month, country, product, clean_title]\n",
       "Index: []"
      ],
      "text/html": [
       "<div>\n",
       "<style scoped>\n",
       "    .dataframe tbody tr th:only-of-type {\n",
       "        vertical-align: middle;\n",
       "    }\n",
       "\n",
       "    .dataframe tbody tr th {\n",
       "        vertical-align: top;\n",
       "    }\n",
       "\n",
       "    .dataframe thead th {\n",
       "        text-align: right;\n",
       "    }\n",
       "</style>\n",
       "<table border=\"1\" class=\"dataframe\">\n",
       "  <thead>\n",
       "    <tr style=\"text-align: right;\">\n",
       "      <th></th>\n",
       "      <th>Unnamed: 0</th>\n",
       "      <th>title</th>\n",
       "      <th>year</th>\n",
       "      <th>day</th>\n",
       "      <th>month</th>\n",
       "      <th>country</th>\n",
       "      <th>product</th>\n",
       "      <th>clean_title</th>\n",
       "    </tr>\n",
       "  </thead>\n",
       "  <tbody>\n",
       "  </tbody>\n",
       "</table>\n",
       "</div>"
      ]
     },
     "execution_count": 126,
     "metadata": {},
     "output_type": "execute_result"
    }
   ],
   "execution_count": 126
  },
  {
   "metadata": {
    "ExecuteTime": {
     "end_time": "2024-12-04T01:05:51.586674Z",
     "start_time": "2024-12-04T01:05:50.967832Z"
    }
   },
   "cell_type": "code",
   "source": "df = pd.read_csv('../data/incidents_train.csv')",
   "id": "5f3a444550ca91b0",
   "outputs": [],
   "execution_count": 182
  },
  {
   "metadata": {
    "ExecuteTime": {
     "end_time": "2024-12-04T01:07:01.096736Z",
     "start_time": "2024-12-04T01:07:01.069199Z"
    }
   },
   "cell_type": "code",
   "source": "df.head()",
   "id": "19bc8a9ff64e5de7",
   "outputs": [
    {
     "data": {
      "text/plain": [
       "   Unnamed: 0  year  month  day country                             title  \\\n",
       "0           0  1994      1    7      us  Recall Notification: FSIS-024-94   \n",
       "1           1  1994      3   10      us  Recall Notification: FSIS-033-94   \n",
       "2           2  1994      3   28      us  Recall Notification: FSIS-014-94   \n",
       "3           3  1994      4    3      us  Recall Notification: FSIS-009-94   \n",
       "4           4  1994      7    1      us  Recall Notification: FSIS-001-94   \n",
       "\n",
       "                                                text hazard-category  \\\n",
       "0  Case Number: 024-94   \\n            Date Opene...      biological   \n",
       "1  Case Number: 033-94   \\n            Date Opene...      biological   \n",
       "2  Case Number: 014-94   \\n            Date Opene...      biological   \n",
       "3  Case Number: 009-94   \\n            Date Opene...  foreign bodies   \n",
       "4  Case Number: 001-94   \\n            Date Opene...  foreign bodies   \n",
       "\n",
       "               product-category                  hazard  \\\n",
       "0  meat, egg and dairy products  listeria monocytogenes   \n",
       "1  meat, egg and dairy products            listeria spp   \n",
       "2  meat, egg and dairy products  listeria monocytogenes   \n",
       "3  meat, egg and dairy products        plastic fragment   \n",
       "4  meat, egg and dairy products        plastic fragment   \n",
       "\n",
       "                       product  \n",
       "0               smoked sausage  \n",
       "1                      sausage  \n",
       "2                   ham slices  \n",
       "3  thermal processed pork meat  \n",
       "4               chicken breast  "
      ],
      "text/html": [
       "<div>\n",
       "<style scoped>\n",
       "    .dataframe tbody tr th:only-of-type {\n",
       "        vertical-align: middle;\n",
       "    }\n",
       "\n",
       "    .dataframe tbody tr th {\n",
       "        vertical-align: top;\n",
       "    }\n",
       "\n",
       "    .dataframe thead th {\n",
       "        text-align: right;\n",
       "    }\n",
       "</style>\n",
       "<table border=\"1\" class=\"dataframe\">\n",
       "  <thead>\n",
       "    <tr style=\"text-align: right;\">\n",
       "      <th></th>\n",
       "      <th>Unnamed: 0</th>\n",
       "      <th>year</th>\n",
       "      <th>month</th>\n",
       "      <th>day</th>\n",
       "      <th>country</th>\n",
       "      <th>title</th>\n",
       "      <th>text</th>\n",
       "      <th>hazard-category</th>\n",
       "      <th>product-category</th>\n",
       "      <th>hazard</th>\n",
       "      <th>product</th>\n",
       "    </tr>\n",
       "  </thead>\n",
       "  <tbody>\n",
       "    <tr>\n",
       "      <th>0</th>\n",
       "      <td>0</td>\n",
       "      <td>1994</td>\n",
       "      <td>1</td>\n",
       "      <td>7</td>\n",
       "      <td>us</td>\n",
       "      <td>Recall Notification: FSIS-024-94</td>\n",
       "      <td>Case Number: 024-94   \\n            Date Opene...</td>\n",
       "      <td>biological</td>\n",
       "      <td>meat, egg and dairy products</td>\n",
       "      <td>listeria monocytogenes</td>\n",
       "      <td>smoked sausage</td>\n",
       "    </tr>\n",
       "    <tr>\n",
       "      <th>1</th>\n",
       "      <td>1</td>\n",
       "      <td>1994</td>\n",
       "      <td>3</td>\n",
       "      <td>10</td>\n",
       "      <td>us</td>\n",
       "      <td>Recall Notification: FSIS-033-94</td>\n",
       "      <td>Case Number: 033-94   \\n            Date Opene...</td>\n",
       "      <td>biological</td>\n",
       "      <td>meat, egg and dairy products</td>\n",
       "      <td>listeria spp</td>\n",
       "      <td>sausage</td>\n",
       "    </tr>\n",
       "    <tr>\n",
       "      <th>2</th>\n",
       "      <td>2</td>\n",
       "      <td>1994</td>\n",
       "      <td>3</td>\n",
       "      <td>28</td>\n",
       "      <td>us</td>\n",
       "      <td>Recall Notification: FSIS-014-94</td>\n",
       "      <td>Case Number: 014-94   \\n            Date Opene...</td>\n",
       "      <td>biological</td>\n",
       "      <td>meat, egg and dairy products</td>\n",
       "      <td>listeria monocytogenes</td>\n",
       "      <td>ham slices</td>\n",
       "    </tr>\n",
       "    <tr>\n",
       "      <th>3</th>\n",
       "      <td>3</td>\n",
       "      <td>1994</td>\n",
       "      <td>4</td>\n",
       "      <td>3</td>\n",
       "      <td>us</td>\n",
       "      <td>Recall Notification: FSIS-009-94</td>\n",
       "      <td>Case Number: 009-94   \\n            Date Opene...</td>\n",
       "      <td>foreign bodies</td>\n",
       "      <td>meat, egg and dairy products</td>\n",
       "      <td>plastic fragment</td>\n",
       "      <td>thermal processed pork meat</td>\n",
       "    </tr>\n",
       "    <tr>\n",
       "      <th>4</th>\n",
       "      <td>4</td>\n",
       "      <td>1994</td>\n",
       "      <td>7</td>\n",
       "      <td>1</td>\n",
       "      <td>us</td>\n",
       "      <td>Recall Notification: FSIS-001-94</td>\n",
       "      <td>Case Number: 001-94   \\n            Date Opene...</td>\n",
       "      <td>foreign bodies</td>\n",
       "      <td>meat, egg and dairy products</td>\n",
       "      <td>plastic fragment</td>\n",
       "      <td>chicken breast</td>\n",
       "    </tr>\n",
       "  </tbody>\n",
       "</table>\n",
       "</div>"
      ]
     },
     "execution_count": 183,
     "metadata": {},
     "output_type": "execute_result"
    }
   ],
   "execution_count": 183
  },
  {
   "metadata": {
    "ExecuteTime": {
     "end_time": "2024-12-04T01:08:36.015704Z",
     "start_time": "2024-12-04T01:08:35.858361Z"
    }
   },
   "cell_type": "code",
   "source": [
    "hcdf = df[['title', 'year', 'month', 'day', 'country', 'hazard-category']]\n",
    "pcdf = df[['title', 'year', 'month', 'day', 'country', 'product-category']]\n",
    "\n",
    "hdf = df[['title', 'year', 'month', 'day', 'country', 'hazard']]\n",
    "pdf = df[['title', 'year', 'month', 'day', 'country', 'product']]\n",
    "\n",
    "hcdf.to_csv('../data/orig_separate/hazard_category_data_0.csv')\n",
    "pcdf.to_csv('../data/orig_separate/product_category_data_0.csv')\n",
    "hdf.to_csv('../data/orig_separate/hazard_data_0.csv')\n",
    "pdf.to_csv('../data/orig_separate/product_data_0.csv')"
   ],
   "id": "a5a8aff109d0bbe9",
   "outputs": [],
   "execution_count": 184
  },
  {
   "metadata": {},
   "cell_type": "code",
   "outputs": [],
   "execution_count": null,
   "source": "",
   "id": "bb1b1ffcd3363f7e"
  },
  {
   "metadata": {},
   "cell_type": "code",
   "outputs": [],
   "execution_count": null,
   "source": "",
   "id": "bf2df5c973b563a8"
  },
  {
   "metadata": {
    "ExecuteTime": {
     "end_time": "2024-12-08T21:46:15.094113Z",
     "start_time": "2024-12-08T21:46:15.091179Z"
    }
   },
   "cell_type": "code",
   "source": [
    "import pandas as pd\n",
    "import os\n",
    "import glob"
   ],
   "id": "99340cc9ab9dbb69",
   "outputs": [],
   "execution_count": 3
  },
  {
   "metadata": {
    "ExecuteTime": {
     "end_time": "2024-12-08T21:48:06.120514Z",
     "start_time": "2024-12-08T21:48:06.034688Z"
    }
   },
   "cell_type": "code",
   "source": [
    "files = glob.glob('../data/synthetic/*_50.csv')\n",
    "print(files)\n",
    "for f in files:\n",
    "    df = pd.read_csv(f)\n",
    "    print(f, len(df))"
   ],
   "id": "5a685afd99d19b3b",
   "outputs": [
    {
     "name": "stdout",
     "output_type": "stream",
     "text": [
      "['../data/synthetic/hazard_data_50.csv', '../data/synthetic/product_category_data_50.csv', '../data/synthetic/product_data_50.csv', '../data/synthetic/hazard_category_data_50.csv']\n",
      "../data/synthetic/hazard_data_50.csv 9367\n",
      "../data/synthetic/product_category_data_50.csv 5359\n",
      "../data/synthetic/product_data_50.csv 51454\n",
      "../data/synthetic/hazard_category_data_50.csv 5155\n"
     ]
    }
   ],
   "execution_count": 6
  },
  {
   "metadata": {
    "ExecuteTime": {
     "end_time": "2024-12-08T21:48:17.630176Z",
     "start_time": "2024-12-08T21:48:17.570346Z"
    }
   },
   "cell_type": "code",
   "source": [
    "files = glob.glob('../data/synthetic/*_25.csv')\n",
    "print(files)\n",
    "for f in files:\n",
    "    df = pd.read_csv(f)\n",
    "    print(f, len(df))"
   ],
   "id": "a28293606638025e",
   "outputs": [
    {
     "name": "stdout",
     "output_type": "stream",
     "text": [
      "['../data/synthetic/hazard_data_25.csv', '../data/synthetic/product_data_25.csv', '../data/synthetic/product_category_data_25.csv', '../data/synthetic/hazard_category_data_25.csv']\n",
      "../data/synthetic/hazard_data_25.csv 6714\n",
      "../data/synthetic/product_data_25.csv 26338\n",
      "../data/synthetic/product_category_data_25.csv 5184\n",
      "../data/synthetic/hazard_category_data_25.csv 5105\n"
     ]
    }
   ],
   "execution_count": 7
  },
  {
   "metadata": {},
   "cell_type": "code",
   "outputs": [],
   "execution_count": null,
   "source": "",
   "id": "c29ed056225ce775"
  }
 ],
 "metadata": {
  "kernelspec": {
   "display_name": "Python 3",
   "language": "python",
   "name": "python3"
  },
  "language_info": {
   "codemirror_mode": {
    "name": "ipython",
    "version": 2
   },
   "file_extension": ".py",
   "mimetype": "text/x-python",
   "name": "python",
   "nbconvert_exporter": "python",
   "pygments_lexer": "ipython2",
   "version": "2.7.6"
  }
 },
 "nbformat": 4,
 "nbformat_minor": 5
}
