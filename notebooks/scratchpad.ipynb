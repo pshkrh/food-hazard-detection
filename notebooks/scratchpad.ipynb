{
 "cells": [
  {
   "cell_type": "code",
   "id": "initial_id",
   "metadata": {
    "collapsed": true,
    "ExecuteTime": {
     "end_time": "2024-10-24T23:11:51.964749Z",
     "start_time": "2024-10-24T23:11:51.961697Z"
    }
   },
   "source": "import pandas as pd",
   "outputs": [],
   "execution_count": 6
  },
  {
   "metadata": {
    "ExecuteTime": {
     "end_time": "2024-10-24T23:12:12.006471Z",
     "start_time": "2024-10-24T23:12:11.894888Z"
    }
   },
   "cell_type": "code",
   "source": "df = pd.read_csv('data/incidents_train.csv', index_col=0)",
   "id": "85a895c3d19ef98c",
   "outputs": [],
   "execution_count": 11
  },
  {
   "metadata": {
    "ExecuteTime": {
     "end_time": "2024-10-24T23:12:12.490359Z",
     "start_time": "2024-10-24T23:12:12.483827Z"
    }
   },
   "cell_type": "code",
   "source": "df.head()",
   "id": "eb58e20ea88626b2",
   "outputs": [
    {
     "data": {
      "text/plain": [
       "   year  month  day country                             title  \\\n",
       "0  1994      1    7      us  Recall Notification: FSIS-024-94   \n",
       "1  1994      3   10      us  Recall Notification: FSIS-033-94   \n",
       "2  1994      3   28      us  Recall Notification: FSIS-014-94   \n",
       "3  1994      4    3      us  Recall Notification: FSIS-009-94   \n",
       "4  1994      7    1      us  Recall Notification: FSIS-001-94   \n",
       "\n",
       "                                                text hazard-category  \\\n",
       "0  Case Number: 024-94   \\n            Date Opene...      biological   \n",
       "1  Case Number: 033-94   \\n            Date Opene...      biological   \n",
       "2  Case Number: 014-94   \\n            Date Opene...      biological   \n",
       "3  Case Number: 009-94   \\n            Date Opene...  foreign bodies   \n",
       "4  Case Number: 001-94   \\n            Date Opene...  foreign bodies   \n",
       "\n",
       "               product-category                  hazard  \\\n",
       "0  meat, egg and dairy products  listeria monocytogenes   \n",
       "1  meat, egg and dairy products            listeria spp   \n",
       "2  meat, egg and dairy products  listeria monocytogenes   \n",
       "3  meat, egg and dairy products        plastic fragment   \n",
       "4  meat, egg and dairy products        plastic fragment   \n",
       "\n",
       "                       product  \n",
       "0               smoked sausage  \n",
       "1                      sausage  \n",
       "2                   ham slices  \n",
       "3  thermal processed pork meat  \n",
       "4               chicken breast  "
      ],
      "text/html": [
       "<div>\n",
       "<style scoped>\n",
       "    .dataframe tbody tr th:only-of-type {\n",
       "        vertical-align: middle;\n",
       "    }\n",
       "\n",
       "    .dataframe tbody tr th {\n",
       "        vertical-align: top;\n",
       "    }\n",
       "\n",
       "    .dataframe thead th {\n",
       "        text-align: right;\n",
       "    }\n",
       "</style>\n",
       "<table border=\"1\" class=\"dataframe\">\n",
       "  <thead>\n",
       "    <tr style=\"text-align: right;\">\n",
       "      <th></th>\n",
       "      <th>year</th>\n",
       "      <th>month</th>\n",
       "      <th>day</th>\n",
       "      <th>country</th>\n",
       "      <th>title</th>\n",
       "      <th>text</th>\n",
       "      <th>hazard-category</th>\n",
       "      <th>product-category</th>\n",
       "      <th>hazard</th>\n",
       "      <th>product</th>\n",
       "    </tr>\n",
       "  </thead>\n",
       "  <tbody>\n",
       "    <tr>\n",
       "      <th>0</th>\n",
       "      <td>1994</td>\n",
       "      <td>1</td>\n",
       "      <td>7</td>\n",
       "      <td>us</td>\n",
       "      <td>Recall Notification: FSIS-024-94</td>\n",
       "      <td>Case Number: 024-94   \\n            Date Opene...</td>\n",
       "      <td>biological</td>\n",
       "      <td>meat, egg and dairy products</td>\n",
       "      <td>listeria monocytogenes</td>\n",
       "      <td>smoked sausage</td>\n",
       "    </tr>\n",
       "    <tr>\n",
       "      <th>1</th>\n",
       "      <td>1994</td>\n",
       "      <td>3</td>\n",
       "      <td>10</td>\n",
       "      <td>us</td>\n",
       "      <td>Recall Notification: FSIS-033-94</td>\n",
       "      <td>Case Number: 033-94   \\n            Date Opene...</td>\n",
       "      <td>biological</td>\n",
       "      <td>meat, egg and dairy products</td>\n",
       "      <td>listeria spp</td>\n",
       "      <td>sausage</td>\n",
       "    </tr>\n",
       "    <tr>\n",
       "      <th>2</th>\n",
       "      <td>1994</td>\n",
       "      <td>3</td>\n",
       "      <td>28</td>\n",
       "      <td>us</td>\n",
       "      <td>Recall Notification: FSIS-014-94</td>\n",
       "      <td>Case Number: 014-94   \\n            Date Opene...</td>\n",
       "      <td>biological</td>\n",
       "      <td>meat, egg and dairy products</td>\n",
       "      <td>listeria monocytogenes</td>\n",
       "      <td>ham slices</td>\n",
       "    </tr>\n",
       "    <tr>\n",
       "      <th>3</th>\n",
       "      <td>1994</td>\n",
       "      <td>4</td>\n",
       "      <td>3</td>\n",
       "      <td>us</td>\n",
       "      <td>Recall Notification: FSIS-009-94</td>\n",
       "      <td>Case Number: 009-94   \\n            Date Opene...</td>\n",
       "      <td>foreign bodies</td>\n",
       "      <td>meat, egg and dairy products</td>\n",
       "      <td>plastic fragment</td>\n",
       "      <td>thermal processed pork meat</td>\n",
       "    </tr>\n",
       "    <tr>\n",
       "      <th>4</th>\n",
       "      <td>1994</td>\n",
       "      <td>7</td>\n",
       "      <td>1</td>\n",
       "      <td>us</td>\n",
       "      <td>Recall Notification: FSIS-001-94</td>\n",
       "      <td>Case Number: 001-94   \\n            Date Opene...</td>\n",
       "      <td>foreign bodies</td>\n",
       "      <td>meat, egg and dairy products</td>\n",
       "      <td>plastic fragment</td>\n",
       "      <td>chicken breast</td>\n",
       "    </tr>\n",
       "  </tbody>\n",
       "</table>\n",
       "</div>"
      ]
     },
     "execution_count": 12,
     "metadata": {},
     "output_type": "execute_result"
    }
   ],
   "execution_count": 12
  },
  {
   "metadata": {
    "ExecuteTime": {
     "end_time": "2024-10-24T23:13:13.979328Z",
     "start_time": "2024-10-24T23:13:13.968194Z"
    }
   },
   "cell_type": "code",
   "source": "df['hazard-category'].value_counts(normalize=True)",
   "id": "ece50a67e81eb122",
   "outputs": [
    {
     "data": {
      "text/plain": [
       "hazard-category\n",
       "allergens                         0.364817\n",
       "biological                        0.342582\n",
       "foreign bodies                    0.110390\n",
       "fraud                             0.073003\n",
       "chemical                          0.056474\n",
       "other hazard                      0.026368\n",
       "packaging defect                  0.010626\n",
       "organoleptic aspects              0.010429\n",
       "food additives and flavourings    0.004723\n",
       "migration                         0.000590\n",
       "Name: proportion, dtype: float64"
      ]
     },
     "execution_count": 14,
     "metadata": {},
     "output_type": "execute_result"
    }
   ],
   "execution_count": 14
  },
  {
   "metadata": {
    "ExecuteTime": {
     "end_time": "2024-10-24T23:14:43.412327Z",
     "start_time": "2024-10-24T23:14:43.406503Z"
    }
   },
   "cell_type": "code",
   "source": "36.4+34.2",
   "id": "4f9ad6c7505b2d54",
   "outputs": [
    {
     "data": {
      "text/plain": [
       "70.6"
      ]
     },
     "execution_count": 15,
     "metadata": {},
     "output_type": "execute_result"
    }
   ],
   "execution_count": 15
  },
  {
   "metadata": {
    "ExecuteTime": {
     "end_time": "2024-10-24T23:15:20.189549Z",
     "start_time": "2024-10-24T23:15:20.178418Z"
    }
   },
   "cell_type": "code",
   "source": "df['product-category'].value_counts(normalize=True)",
   "id": "774aa456ed02d23f",
   "outputs": [
    {
     "data": {
      "text/plain": [
       "product-category\n",
       "meat, egg and dairy products                         0.282172\n",
       "cereals and bakery products                          0.132035\n",
       "fruits and vegetables                                0.105274\n",
       "prepared dishes and snacks                           0.092287\n",
       "seafood                                              0.052735\n",
       "soups, broths, sauces and condiments                 0.051948\n",
       "nuts, nut products and seeds                         0.051555\n",
       "ices and desserts                                    0.043684\n",
       "cocoa and cocoa preparations, coffee and tea         0.041322\n",
       "confectionery                                        0.033451\n",
       "non-alcoholic beverages                              0.026368\n",
       "dietetic foods, food supplements, fortified foods    0.025777\n",
       "herbs and spices                                     0.024597\n",
       "alcoholic beverages                                  0.011610\n",
       "other food product / mixed                           0.010823\n",
       "pet feed                                             0.003935\n",
       "fats and oils                                        0.003739\n",
       "food additives and flavourings                       0.001574\n",
       "honey and royal jelly                                0.001574\n",
       "food contact materials                               0.001377\n",
       "feed materials                                       0.001181\n",
       "sugars and syrups                                    0.000984\n",
       "Name: proportion, dtype: float64"
      ]
     },
     "execution_count": 16,
     "metadata": {},
     "output_type": "execute_result"
    }
   ],
   "execution_count": 16
  },
  {
   "metadata": {
    "ExecuteTime": {
     "end_time": "2024-10-24T23:16:04.984630Z",
     "start_time": "2024-10-24T23:16:04.980995Z"
    }
   },
   "cell_type": "code",
   "source": "28.2+13.2+10.5",
   "id": "b4a2137ababf6be7",
   "outputs": [
    {
     "data": {
      "text/plain": [
       "51.9"
      ]
     },
     "execution_count": 18,
     "metadata": {},
     "output_type": "execute_result"
    }
   ],
   "execution_count": 18
  },
  {
   "metadata": {},
   "cell_type": "code",
   "outputs": [],
   "execution_count": null,
   "source": "",
   "id": "c38dc4f5206b6f93"
  }
 ],
 "metadata": {
  "kernelspec": {
   "display_name": "Python 3",
   "language": "python",
   "name": "python3"
  },
  "language_info": {
   "codemirror_mode": {
    "name": "ipython",
    "version": 2
   },
   "file_extension": ".py",
   "mimetype": "text/x-python",
   "name": "python",
   "nbconvert_exporter": "python",
   "pygments_lexer": "ipython2",
   "version": "2.7.6"
  }
 },
 "nbformat": 4,
 "nbformat_minor": 5
}
